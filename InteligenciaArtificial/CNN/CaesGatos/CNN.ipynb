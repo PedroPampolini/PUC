{
 "cells": [
  {
   "attachments": {},
   "cell_type": "markdown",
   "metadata": {},
   "source": [
    "***Rede Neural Convolucional básica***"
   ]
  },
  {
   "cell_type": "code",
   "execution_count": 1,
   "metadata": {},
   "outputs": [],
   "source": [
    "import tensorflow as tf\n",
    "import keras as k\n",
    "from keras.models import Sequential\n",
    "from keras.layers import Conv2D, MaxPooling2D, Flatten, Dense"
   ]
  },
  {
   "cell_type": "code",
   "execution_count": 2,
   "metadata": {},
   "outputs": [
    {
     "name": "stdout",
     "output_type": "stream",
     "text": [
      "2.12.0-rc0\n",
      "2.12.0\n"
     ]
    }
   ],
   "source": [
    "print(tf.__version__)\n",
    "print(k.__version__)"
   ]
  },
  {
   "attachments": {},
   "cell_type": "markdown",
   "metadata": {},
   "source": [
    "**Criação da rede**"
   ]
  },
  {
   "cell_type": "code",
   "execution_count": 3,
   "metadata": {},
   "outputs": [],
   "source": [
    "classifier = Sequential()"
   ]
  },
  {
   "attachments": {},
   "cell_type": "markdown",
   "metadata": {},
   "source": [
    "**Adição da primeira camada de Convolução**"
   ]
  },
  {
   "cell_type": "code",
   "execution_count": 4,
   "metadata": {},
   "outputs": [],
   "source": [
    "classifier.add(Conv2D(filters=64, kernel_size=(7, 7), input_shape=(256, 256 , 3), activation='relu'))"
   ]
  },
  {
   "attachments": {},
   "cell_type": "markdown",
   "metadata": {},
   "source": [
    "**Adiciona a primeira camada de pooling**"
   ]
  },
  {
   "cell_type": "code",
   "execution_count": 5,
   "metadata": {},
   "outputs": [],
   "source": [
    "classifier.add(MaxPooling2D(pool_size=(2, 2)))"
   ]
  },
  {
   "attachments": {},
   "cell_type": "markdown",
   "metadata": {},
   "source": [
    "**Adiciona a segunda camada de convolução**"
   ]
  },
  {
   "cell_type": "code",
   "execution_count": 6,
   "metadata": {},
   "outputs": [],
   "source": [
    "classifier.add(Conv2D(filters=32, kernel_size=(3, 3), activation='relu'))"
   ]
  },
  {
   "attachments": {},
   "cell_type": "markdown",
   "metadata": {},
   "source": [
    "**Adiciona a segunda camada de Pooling**"
   ]
  },
  {
   "cell_type": "code",
   "execution_count": 7,
   "metadata": {},
   "outputs": [],
   "source": [
    "classifier.add(MaxPooling2D(pool_size=(2, 2)))"
   ]
  },
  {
   "attachments": {},
   "cell_type": "markdown",
   "metadata": {},
   "source": [
    "**Adiciona a Terceira camada de convolução**"
   ]
  },
  {
   "cell_type": "code",
   "execution_count": 8,
   "metadata": {},
   "outputs": [],
   "source": [
    "classifier.add(Conv2D(filters=32, kernel_size=(3, 3), activation='relu'))"
   ]
  },
  {
   "attachments": {},
   "cell_type": "markdown",
   "metadata": {},
   "source": [
    "**Adiciona a Terceira camada de Pooling**"
   ]
  },
  {
   "cell_type": "code",
   "execution_count": 9,
   "metadata": {},
   "outputs": [],
   "source": [
    "classifier.add(MaxPooling2D(pool_size=(2, 2)))"
   ]
  },
  {
   "attachments": {},
   "cell_type": "markdown",
   "metadata": {},
   "source": [
    "**Adiciona a quarta camada de convolução**"
   ]
  },
  {
   "cell_type": "code",
   "execution_count": 10,
   "metadata": {},
   "outputs": [],
   "source": [
    "classifier.add(Conv2D(filters=32, kernel_size=(3, 3), activation='relu'))"
   ]
  },
  {
   "attachments": {},
   "cell_type": "markdown",
   "metadata": {},
   "source": [
    "**Adiciona a quarta camada de Pooling**"
   ]
  },
  {
   "cell_type": "code",
   "execution_count": 11,
   "metadata": {},
   "outputs": [],
   "source": [
    "classifier.add(MaxPooling2D(pool_size=(2, 2)))"
   ]
  },
  {
   "attachments": {},
   "cell_type": "markdown",
   "metadata": {},
   "source": [
    "**Adiciona uma camada de Flatten para transformar o objeto 2D em 1D**"
   ]
  },
  {
   "cell_type": "code",
   "execution_count": 12,
   "metadata": {},
   "outputs": [],
   "source": [
    "classifier.add(Flatten())"
   ]
  },
  {
   "attachments": {},
   "cell_type": "markdown",
   "metadata": {},
   "source": [
    "**Adiciona a rede neural para a previsão** "
   ]
  },
  {
   "cell_type": "code",
   "execution_count": 13,
   "metadata": {},
   "outputs": [],
   "source": [
    "classifier.add(Dense(units=128, activation='relu'))\n",
    "classifier.add(Dense(units=1, activation='sigmoid'))"
   ]
  },
  {
   "attachments": {},
   "cell_type": "markdown",
   "metadata": {},
   "source": [
    "**Compilando a rede**"
   ]
  },
  {
   "cell_type": "code",
   "execution_count": 14,
   "metadata": {},
   "outputs": [],
   "source": [
    "classifier.compile(optimizer='adam', loss= 'binary_crossentropy', metrics=['accuracy'])"
   ]
  },
  {
   "attachments": {},
   "cell_type": "markdown",
   "metadata": {},
   "source": [
    "***Agora deve ser feito o treinamento da IA***"
   ]
  },
  {
   "cell_type": "code",
   "execution_count": 15,
   "metadata": {},
   "outputs": [],
   "source": [
    "from keras.preprocessing.image import ImageDataGenerator"
   ]
  },
  {
   "cell_type": "code",
   "execution_count": 16,
   "metadata": {},
   "outputs": [],
   "source": [
    "dataPath = ''"
   ]
  },
  {
   "cell_type": "code",
   "execution_count": 17,
   "metadata": {},
   "outputs": [],
   "source": [
    "train_datagen = ImageDataGenerator(rescale=1./255, shear_range = 0.2, zoom_range=0.2, horizontal_flip=True)\n",
    "validation_datagen = ImageDataGenerator(rescale=1./255)"
   ]
  },
  {
   "cell_type": "code",
   "execution_count": 18,
   "metadata": {},
   "outputs": [
    {
     "name": "stdout",
     "output_type": "stream",
     "text": [
      "Found 25000 images belonging to 2 classes.\n",
      "Found 0 images belonging to 0 classes.\n"
     ]
    }
   ],
   "source": [
    "training_set = train_datagen.flow_from_directory(dataPath + 'dataset_treino', target_size=(256, 256), batch_size=32, class_mode='binary')\n",
    "validation_set = validation_datagen.flow_from_directory(dataPath + 'dataset_validation', target_size=(256, 256), batch_size=32, class_mode='binary')"
   ]
  },
  {
   "cell_type": "code",
   "execution_count": 19,
   "metadata": {},
   "outputs": [
    {
     "name": "stderr",
     "output_type": "stream",
     "text": [
      "C:\\Users\\pedro\\AppData\\Local\\Temp\\ipykernel_10344\\3517177598.py:1: UserWarning: `Model.fit_generator` is deprecated and will be removed in a future version. Please use `Model.fit`, which supports generators.\n",
      "  classifier.fit_generator(training_set, steps_per_epoch=4000, epochs=5,validation_data=validation_set, validation_steps=2000, verbose=0)\n"
     ]
    },
    {
     "name": "stdout",
     "output_type": "stream",
     "text": [
      "WARNING:tensorflow:Your input ran out of data; interrupting training. Make sure that your dataset or generator can generate at least `steps_per_epoch * epochs` batches (in this case, 20000 batches). You may need to use the repeat() function when building your dataset.\n"
     ]
    },
    {
     "data": {
      "text/plain": [
       "<keras.callbacks.History at 0x1c7ffe8c210>"
      ]
     },
     "execution_count": 19,
     "metadata": {},
     "output_type": "execute_result"
    }
   ],
   "source": [
    "classifier.fit_generator(training_set, steps_per_epoch=4000, epochs=5,validation_data=validation_set, validation_steps=2000, verbose=0)"
   ]
  },
  {
   "attachments": {},
   "cell_type": "markdown",
   "metadata": {},
   "source": [
    "***Fazendo previsões com o modelo***"
   ]
  },
  {
   "cell_type": "code",
   "execution_count": 20,
   "metadata": {},
   "outputs": [],
   "source": [
    "import numpy as np\n",
    "import tensorflow.keras.utils as image\n",
    "import os, shutil"
   ]
  },
  {
   "cell_type": "code",
   "execution_count": 21,
   "metadata": {},
   "outputs": [
    {
     "name": "stdout",
     "output_type": "stream",
     "text": [
      "10.0% \n",
      "20.0% \n",
      "30.0% \n",
      "40.0% \n",
      "50.0% \n",
      "60.0% \n",
      "70.0% \n",
      "80.0% \n",
      "90.0% \n",
      "100.0% \n"
     ]
    }
   ],
   "source": [
    "results_prediction = [[0,0],[0,0]]\n",
    "path = dataPath + 'dataset_teste/'\n",
    "dogPath = 'Cachorros'\n",
    "catPath = 'Gatos'\n",
    "\n",
    "#apaga tudo dentro das pastas\n",
    "# for fileName in os.listdir(dogPath):\n",
    "#     filename = os.path.join(dogPath, fileName)\n",
    "#     if(os.path.isfile(filename)):\n",
    "#         os.remove(filename)\n",
    "# for fileName in os.listdir(catPath):\n",
    "#     filename = os.path.join(catPath, fileName)\n",
    "#     if(os.path.isfile(filename)):\n",
    "#         os.remove(filename)\n",
    "\n",
    "index = 0\n",
    "maxQtd = len(os.listdir(path + dogPath)) + len(os.listdir(path + catPath))\n",
    "catCounter = 0\n",
    "dogCounter = 0\n",
    "#Classifica os cachorros primeiro\n",
    "for fileName in os.listdir(path + dogPath):\n",
    "    caminho = os.path.join(path + dogPath, fileName)\n",
    "    test_image = image.load_img(caminho, target_size=(256, 256))\n",
    "    test_image = image.img_to_array(test_image)\n",
    "    test_image = np.expand_dims(test_image, axis=0)\n",
    "    \n",
    "    result = classifier.predict(test_image, verbose=0)\n",
    "    training_set.class_indices\n",
    "    if(result[0][0] == 1):\n",
    "        results_prediction[0][0] += 1\n",
    "        dogCounter += 1\n",
    "        prediction = 'Cachorro'\n",
    "        #shutil.copy(caminho, dogPath)\n",
    "    else:\n",
    "        results_prediction[0][1] += 1\n",
    "        catCounter += 1\n",
    "        prediction = 'Gato'\n",
    "        #shutil.copy(caminho, catPath)\n",
    "    index += 1\n",
    "    if(index % 100 == 0):\n",
    "        print(f'{(index/maxQtd)*100}% ')\n",
    "\n",
    "    \n",
    "#Classifica os gatos segundamente\n",
    "for fileName in os.listdir(path + catPath):\n",
    "    caminho = os.path.join(path + catPath, fileName)\n",
    "    test_image = image.load_img(caminho, target_size=(256, 256))\n",
    "    test_image = image.img_to_array(test_image)\n",
    "    test_image = np.expand_dims(test_image, axis=0)\n",
    "    \n",
    "    result = classifier.predict(test_image, verbose=0)\n",
    "    training_set.class_indices\n",
    "    if(result[0][0] == 1):\n",
    "        results_prediction[1][0] += 1\n",
    "        dogCounter += 1\n",
    "        prediction = 'Cachorro'\n",
    "        #shutil.copy(caminho, dogPath)\n",
    "    else:\n",
    "        results_prediction[1][1] += 1\n",
    "        catCounter += 1\n",
    "        prediction = 'Gato'\n",
    "        #shutil.copy(caminho, catPath)\n",
    "    index += 1\n",
    "    if(index % 100 == 0):\n",
    "        print(f'{(index/maxQtd)*100}% ')\n",
    "    \n",
    "        "
   ]
  },
  {
   "cell_type": "code",
   "execution_count": 22,
   "metadata": {},
   "outputs": [
    {
     "data": {
      "text/plain": [
       "[[358, 142], [156, 344]]"
      ]
     },
     "execution_count": 22,
     "metadata": {},
     "output_type": "execute_result"
    }
   ],
   "source": [
    "results_prediction"
   ]
  },
  {
   "cell_type": "code",
   "execution_count": 23,
   "metadata": {},
   "outputs": [
    {
     "data": {
      "text/plain": [
       "(486, 514)"
      ]
     },
     "execution_count": 23,
     "metadata": {},
     "output_type": "execute_result"
    }
   ],
   "source": [
    "catCounter, dogCounter"
   ]
  },
  {
   "attachments": {},
   "cell_type": "markdown",
   "metadata": {},
   "source": [
    "***Imprime a matriz de confusão***"
   ]
  },
  {
   "cell_type": "code",
   "execution_count": 24,
   "metadata": {},
   "outputs": [],
   "source": [
    "import matplotlib.pyplot as plt\n",
    "import seaborn as sns\n",
    "import numpy as np"
   ]
  },
  {
   "cell_type": "code",
   "execution_count": 25,
   "metadata": {},
   "outputs": [],
   "source": [
    "classes = ['Cachorro', 'Gato']"
   ]
  },
  {
   "cell_type": "code",
   "execution_count": 26,
   "metadata": {},
   "outputs": [
    {
     "data": {
      "image/png": "[encoded data removed]",
      "text/plain": [
       "<Figure size 640x480 with 2 Axes>"
      ]
     },
     "metadata": {},
     "output_type": "display_data"
    }
   ],
   "source": [
    "sns.heatmap(results_prediction, annot=True, xticklabels=classes, yticklabels=classes, fmt='d', cmap='Blues')\n",
    "plt.xlabel('Classe Predita')\n",
    "plt.ylabel('Classe Real')\n",
    "plt.title('Matriz de Confusão')\n",
    "plt.show()\n",
    "\n"
   ]
  },
  {
   "cell_type": "code",
   "execution_count": 27,
   "metadata": {},
   "outputs": [],
   "source": [
    "def calcular_metricas(matriz, classes = None):\n",
    "    if classes is None:\n",
    "        classes = np.arange(matriz.shape[0])\n",
    "    TP = np.diag(matriz)  # True Positives\n",
    "    FP = np.sum(matriz, axis=0) - TP  # False Positives\n",
    "    FN = np.sum(matriz, axis=1) - TP  # False Negatives\n",
    "    TN = np.sum(matriz) - (TP + FP + FN)  # True Negatives\n",
    "\n",
    "    # Precisão (Precision)\n",
    "    precisao = TP / (TP + FP)\n",
    "\n",
    "    # Sensibilidade (Recall) ou Taxa de Verdadeiros Positivos (TPR)\n",
    "    sensibilidade = TP / (TP + FN)\n",
    "\n",
    "    # F1\n",
    "    f1 = 2 * (precisao * sensibilidade) / (precisao + sensibilidade)\n",
    "\n",
    "    # Acurácia (Accuracy)\n",
    "    acuracia = (TP + TN) / (TP + TN + FP + FN)\n",
    "\n",
    "    metricas = {\n",
    "        'precisao': {x: y for x, y in zip(classes, precisao)},\n",
    "        'sensibilidade': {x: y for x, y in zip(classes, sensibilidade)},\n",
    "        'f1': {x: y for x, y in zip(classes, f1)},\n",
    "        'acuracia': acuracia,\n",
    "    }\n",
    "    \n",
    "    return metricas"
   ]
  },
  {
   "cell_type": "code",
   "execution_count": 28,
   "metadata": {},
   "outputs": [],
   "source": [
    "def imprimir_metricas(metricas):\n",
    "    print('classe\\tPrecisão\\tRecall\\t\\tF1')\n",
    "    for classe in metricas['precisao']:\n",
    "        print(f'{classe}\\t{metricas[\"precisao\"][classe]:.4f}\\t\\t{metricas[\"sensibilidade\"][classe]:.4f}\\t\\t{metricas[\"f1\"][classe]:.4f}')\n",
    "    print(f'\\nAcurácia: {metricas[\"acuracia\"][0]:.4f}')\n",
    "    "
   ]
  },
  {
   "cell_type": "code",
   "execution_count": 29,
   "metadata": {},
   "outputs": [],
   "source": [
    "metricas = calcular_metricas(results_prediction, classes=['Dog', 'Cat'])"
   ]
  },
  {
   "cell_type": "code",
   "execution_count": 30,
   "metadata": {},
   "outputs": [
    {
     "name": "stdout",
     "output_type": "stream",
     "text": [
      "classe\tPrecisão\tRecall\t\tF1\n",
      "Dog\t0.6965\t\t0.7160\t\t0.7061\n",
      "Cat\t0.7078\t\t0.6880\t\t0.6978\n",
      "\n",
      "Acurácia: 0.7020\n"
     ]
    }
   ],
   "source": [
    "imprimir_metricas(metricas)"
   ]
  },
  {
   "cell_type": "code",
   "execution_count": 31,
   "metadata": {},
   "outputs": [],
   "source": [
    "classifier.save"
   ]
  },
  {
   "cell_type": "code",
   "execution_count": null,
   "metadata": {},
   "outputs": [],
   "source": []
  }
 ],
 "metadata": {
  "kernelspec": {
   "display_name": "Python 3",
   "language": "python",
   "name": "python3"
  },
  "language_info": {
   "codemirror_mode": {
    "name": "ipython",
    "version": 3
   },
   "file_extension": ".py",
   "mimetype": "text/x-python",
   "name": "python",
   "nbconvert_exporter": "python",
   "pygments_lexer": "ipython3",
   "version": "3.11.1"
  },
  "orig_nbformat": 4
 },
 "nbformat": 4,
 "nbformat_minor": 2
}
